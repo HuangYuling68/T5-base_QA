{
 "cells": [
  {
   "cell_type": "code",
   "execution_count": 3,
   "id": "aa612422",
   "metadata": {},
   "outputs": [
    {
     "name": "stdout",
     "output_type": "stream",
     "text": [
      "共加载训练样本数：14520\n",
      "第 1 个样本:\n",
      "context: 第35集雪见缓缓张开眼睛，景天又惊又喜之际，长卿和紫萱的仙船驶至，见众人无恙，也十分高兴。众人登船，用尽合力把自身的真气和水分输给她。雪见终于醒过来了，但却一脸木然，全无反应。众人向常胤求助，却发现人世界竟没有雪见的身世纪录。长卿询问清微的身世，清微语带双关说一切上了天界便有答案。长卿驾驶仙船，众人决定立马动身，往天界而去。众人来到一荒山，长卿指出，魔界和天界相连。由魔界进入通过神魔之井，便可登天。众人至魔界入口，仿若一黑色的蝙蝠洞，但始终无法进入。后来花楹发现只要有翅膀便能飞入。于是景天等人打下许多乌鸦，模仿重楼的翅膀，制作数对翅膀状巨物。刚佩戴在身，便被吸入洞口。众人摔落在地，抬头发现魔界守卫。景天和众魔套交情，自称和魔尊重楼相熟，众魔不理，打了起来。 \n",
      "question: 仙剑奇侠传3第几集上天界 \n",
      "answer: 第35集\n",
      "第 2 个样本:\n",
      "context: 选择燃气热水器时，一定要关注这几个问题：1、出水稳定性要好，不能出现忽热忽冷的现象2、快速到达设定的需求水温3、操作要智能、方便4、安全性要好，要装有安全报警装置 市场上燃气热水器品牌众多，购买时还需多加对比和仔细鉴别。方太今年主打的磁化恒温热水器在使用体验方面做了全面升级：9秒速热，可快速进入洗浴模式；水温持久稳定，不会出现忽热忽冷的现象，并通过水量伺服技术将出水温度精确控制在±0.5℃，可满足家里宝贝敏感肌肤洗护需求；配备CO和CH4双气体报警装置更安全（市场上一般多为CO单气体报警）。另外，这款热水器还有智能WIFI互联功能，只需下载个手机APP即可用手机远程操作热水器，实现精准调节水温，满足家人多样化的洗浴需求。当然方太的磁化恒温系列主要的是增加磁化功能，可以有效吸附水中的铁锈、铁屑等微小杂质，防止细菌滋生，使沐浴水质更洁净，长期使用磁化水沐浴更利于身体健康。 \n",
      "question: 燃气热水器哪个牌子好 \n",
      "answer: 方太\n",
      "第 3 个样本:\n",
      "context: 迈克尔.乔丹在NBA打了15个赛季。他在84年进入nba，期间在1993年10月6日第一次退役改打棒球，95年3月18日重新回归，在99年1月13日第二次退役，后于2001年10月31日复出，在03年最终退役。迈克尔·乔丹（Michael Jordan），1963年2月17日生于纽约布鲁克林，美国著名篮球运动员，司职得分后卫，历史上最伟大的篮球运动员。1984年的NBA选秀大会，乔丹在首轮第3顺位被芝加哥公牛队选中。 1986-87赛季，乔丹场均得到37.1分，首次获得分王称号。1990-91赛季，乔丹连夺常规赛MVP和总决赛MVP称号，率领芝加哥公牛首次夺得NBA总冠军。 1997-98赛季，乔丹获得个人职业生涯第10个得分王，并率领公牛队第六次夺得总冠军。2009年9月11日，乔丹正式入选NBA名人堂。 \n",
      "question: 乔丹打了多少个赛季 \n",
      "answer: 15个\n",
      "第 4 个样本:\n",
      "context: 杜达昌重庆曙光男科医院临床专家,曙光名医堂中心专家,从事泌尿(男科)工作30多年,擅长泌尿生殖肿瘤、前列腺增生、尿路结石男性生殖整形等疑难疾病诊治,独立开展前列腺汽化电切手术千余例,技术精湛,经验丰富。...[详情] \n",
      "question: 重庆割包皮哪好 \n",
      "answer: 曙光男科医院\n",
      "第 5 个样本:\n",
      "context: 国民弟弟吴磊作为代言人出席某品牌活动,不规则条纹衬衫内搭绿色T恤,层次感的混搭潮酷范十足又不失活力。亮绿色的穿搭一扫沉闷,可以说是炎热夏日里的一阵清风了～ 下面和小编一起来看看吧!|据悉《斗破苍穹》吴磊林允“斗气”集结,各负盔甲莫欺少年穷,电视剧《斗破苍穹》正在拍摄中,预计于2017年年底上映播出。|以上就是吴磊出席活动照的相关消息,(原图来源于新浪微博,如有侵权请发邮件 yule@52pk.com联系删除)更多相关消息,请持续关注52PK娱乐频道 http://yule.52pk.com/ 。|上一篇:刘亦菲陈乔恩被评为最美伴娘 都是行走的抢镜王者下一篇:七十二层奇楼成都录制 吴亦凡颖宝变身服务员萌翻天 \n",
      "question: 吴磊斗破苍穹上映时间 \n",
      "answer: 2017年年底\n",
      "共加载测试样本数：984\n",
      "第 1 个样本:\n",
      "context: 年基准利率4.35%。 从实际看,贷款的基本条件是: 一是中国大陆居民,年龄在60岁以下; 二是有稳定的住址和工作或经营地点; 三是有稳定的收入来源; 四是无不良信用记录,贷款用途不能作为炒股,赌博等行为; 五是具有完全民事行为能力。 \n",
      "question: 2017年银行贷款基准利率 \n",
      "answer: 年基准利率4.35%\n",
      "第 2 个样本:\n",
      "context: 年基准利率4.35%。 从实际看,贷款的基本条件是: 一是中国大陆居民,年龄在60岁以下; 二是有稳定的住址和工作或经营地点; 三是有稳定的收入来源; 四是无不良信用记录,贷款用途不能作为炒股,赌博等行为; 五是具有完全民事行为能力。 \n",
      "question: 2017年银行贷款基准利率 \n",
      "answer: 4.35%\n",
      "第 3 个样本:\n",
      "context: U系列是最好的，采用国际顶尖技术（由格力自主研发）双级变频压缩机，提高压缩机运转效率，制冷制热能力更强劲；1赫兹变频技术，使空调相当于一个15 W电灯泡，更加节能省电；送风面积广，风力大；生态风，净化空气。非常不错，现在国美在做活动，可以了解一下。 \n",
      "question: 格力空调哪个系列好 \n",
      "answer: U系列\n",
      "第 4 个样本:\n",
      "context: 平面操作区域进深（即宽度）以40至60厘米为宜；要充分考虑洗菜盆的宽度。以标准洗菜盆来算，应选择550－－600MM的宽度为好。另：在高度方面，根据我国人体高度测算，掌握以下尺寸为宜：操作台高度在89至92厘米为宜；平面操作区域进深以40至60厘米为宜；抽油烟机与灶台的距离掌握在60至80厘米为宜；操作台上方的吊柜要能使主人操作时不碰头为宜，它距地面最小距离不应小于145厘米，进深尺寸为25至35厘米，吊柜与操作台之间的距离应在55厘米以上。 \n",
      "question: 橱柜宽度 \n",
      "answer: 以40至60厘米为宜\n",
      "第 5 个样本:\n",
      "context: 平面操作区域进深（即宽度）以40至60厘米为宜；要充分考虑洗菜盆的宽度。以标准洗菜盆来算，应选择550－－600MM的宽度为好。另：在高度方面，根据我国人体高度测算，掌握以下尺寸为宜：操作台高度在89至92厘米为宜；平面操作区域进深以40至60厘米为宜；抽油烟机与灶台的距离掌握在60至80厘米为宜；操作台上方的吊柜要能使主人操作时不碰头为宜，它距地面最小距离不应小于145厘米，进深尺寸为25至35厘米，吊柜与操作台之间的距离应在55厘米以上。 \n",
      "question: 橱柜宽度 \n",
      "answer: 40至60厘米\n"
     ]
    }
   ],
   "source": [
    "import json\n",
    "\n",
    "train_data_path = \"data/train.json\"\n",
    "test_data_path = \"data/dev.json\"\n",
    "\n",
    "train_data = []\n",
    "with open(train_data_path, 'r', encoding='utf-8') as f:\n",
    "    for line in f:\n",
    "        if line.strip():  # 忽略空行\n",
    "            train_data.append(json.loads(line.strip()))\n",
    "\n",
    "print(f\"共加载训练样本数：{len(train_data)}\")\n",
    "for i in range(5):\n",
    "    print(\"第\",i+1,\"个样本:\\ncontext:\",train_data[i]['context'],\"\\nquestion:\",train_data[i]['question'],\"\\nanswer:\",train_data[i]['answer'])\n",
    "\n",
    "test_data = []\n",
    "with open(test_data_path, 'r', encoding='utf-8') as f:\n",
    "    for line in f:\n",
    "        if line.strip():  # 忽略空行\n",
    "            test_data.append(json.loads(line.strip()))\n",
    "\n",
    "print(f\"共加载测试样本数：{len(test_data)}\")\n",
    "for i in range(5):\n",
    "    print(\"第\",i+1,\"个样本:\\ncontext:\",test_data[i]['context'],\"\\nquestion:\",test_data[i]['question'],\"\\nanswer:\",test_data[i]['answer'])"
   ]
  },
  {
   "cell_type": "code",
   "execution_count": 2,
   "id": "c0205805",
   "metadata": {},
   "outputs": [
    {
     "name": "stdout",
     "output_type": "stream",
     "text": [
      "训练集样本数： 13068\n",
      "验证集样本数： 1452\n"
     ]
    }
   ],
   "source": [
    "from datasets import Dataset\n",
    "\n",
    "# 构造 input_text 和 target_text\n",
    "samples = []\n",
    "for item in train_data:\n",
    "    input_text = f\"问题：{item['question']} 文本：{item['context']}\"\n",
    "    target_text = item['answer']\n",
    "    samples.append({\n",
    "        \"input_text\": input_text,\n",
    "        \"target_text\": target_text\n",
    "    })\n",
    "\n",
    "# 转换为 HuggingFace Dataset 并划分训练/验证集\n",
    "dataset = Dataset.from_list(samples)\n",
    "dataset = dataset.train_test_split(test_size=0.1, seed=42)\n",
    "\n",
    "train_dataset = dataset[\"train\"]\n",
    "eval_dataset = dataset[\"test\"]\n",
    "\n",
    "print(\"训练集样本数：\", len(train_dataset))\n",
    "print(\"验证集样本数：\", len(eval_dataset))"
   ]
  },
  {
   "cell_type": "code",
   "execution_count": 3,
   "id": "50373b70",
   "metadata": {},
   "outputs": [
    {
     "name": "stderr",
     "output_type": "stream",
     "text": [
      "You are using the default legacy behaviour of the <class 'transformers.models.t5.tokenization_t5.T5Tokenizer'>. This is expected, and simply means that the `legacy` (previous) behavior will be used so nothing changes for you. If you want to use the new behaviour, set `legacy=False`. This should only be set if you understand what it means, and thoroughly read the reason why this was added as explained in https://github.com/huggingface/transformers/pull/24565\n"
     ]
    }
   ],
   "source": [
    "from transformers import T5Tokenizer, T5ForConditionalGeneration\n",
    "\n",
    "model_name = \"Langboat/mengzi-t5-base\"\n",
    "tokenizer = T5Tokenizer.from_pretrained(model_name)\n",
    "model = T5ForConditionalGeneration.from_pretrained(model_name)\n",
    "\n",
    "max_input_len = 512\n",
    "max_target_len = 64\n",
    "\n",
    "def preprocess_function(examples):\n",
    "    model_inputs = tokenizer(\n",
    "        examples[\"input_text\"],\n",
    "        max_length=max_input_len,\n",
    "        padding=\"max_length\",\n",
    "        truncation=True\n",
    "    )\n",
    "\n",
    "    labels = tokenizer(\n",
    "        examples[\"target_text\"],\n",
    "        max_length=max_target_len,\n",
    "        padding=\"max_length\",\n",
    "        truncation=True\n",
    "    )[\"input_ids\"]\n",
    "\n",
    "    # 避免对 PAD 部分计算损失\n",
    "    labels = [\n",
    "        [(l if l != tokenizer.pad_token_id else -100) for l in label]\n",
    "        for label in labels\n",
    "    ]\n",
    "\n",
    "    model_inputs[\"labels\"] = labels\n",
    "    return model_inputs"
   ]
  },
  {
   "cell_type": "code",
   "execution_count": 4,
   "id": "b860a7ec",
   "metadata": {},
   "outputs": [
    {
     "data": {
      "application/vnd.jupyter.widget-view+json": {
       "model_id": "04116335abd44028a64f9118f4efd0f8",
       "version_major": 2,
       "version_minor": 0
      },
      "text/plain": [
       "Map:   0%|          | 0/13068 [00:00<?, ? examples/s]"
      ]
     },
     "metadata": {},
     "output_type": "display_data"
    },
    {
     "data": {
      "application/vnd.jupyter.widget-view+json": {
       "model_id": "956811c01a9b4d298f42284f6719dd64",
       "version_major": 2,
       "version_minor": 0
      },
      "text/plain": [
       "Map:   0%|          | 0/1452 [00:00<?, ? examples/s]"
      ]
     },
     "metadata": {},
     "output_type": "display_data"
    }
   ],
   "source": [
    "tokenized_train = train_dataset.map(preprocess_function, batched=True)\n",
    "tokenized_eval = eval_dataset.map(preprocess_function, batched=True)\n",
    "\n",
    "tokenized_train.set_format(\"torch\")\n",
    "tokenized_eval.set_format(\"torch\")"
   ]
  },
  {
   "cell_type": "code",
   "execution_count": null,
   "id": "28eb9936",
   "metadata": {},
   "outputs": [],
   "source": [
    "from transformers import TrainingArguments, Trainer\n",
    "\n",
    "training_args = TrainingArguments(\n",
    "    output_dir=\"./mengzi_t5_qa_output\",\n",
    "    run_name=\"mengzi-t5-qa-run\",\n",
    "    num_train_epochs=3,\n",
    "    per_device_train_batch_size=2,\n",
    "    per_device_eval_batch_size=2,\n",
    "    logging_dir=\"./logs\",\n",
    "    learning_rate=3e-5,\n",
    "    warmup_steps=500,\n",
    "    weight_decay=0.01,\n",
    "    save_total_limit=2,\n",
    "    fp16=True \n",
    ")"
   ]
  },
  {
   "cell_type": "code",
   "execution_count": null,
   "id": "e9ea56e6",
   "metadata": {},
   "outputs": [
    {
     "data": {
      "application/vnd.jupyter.widget-view+json": {
       "model_id": "e7d5b2f188af4f8380637eeae59d2606",
       "version_major": 2,
       "version_minor": 0
      },
      "text/plain": [
       "  0%|          | 0/1500 [00:00<?, ?it/s]"
      ]
     },
     "metadata": {},
     "output_type": "display_data"
    },
    {
     "ename": "",
     "evalue": "",
     "output_type": "error",
     "traceback": [
      "\u001b[1;31m在当前单元格或上一个单元格中执行代码时 Kernel 崩溃。\n",
      "\u001b[1;31m请查看单元格中的代码，以确定故障的可能原因。\n",
      "\u001b[1;31m单击<a href='https://aka.ms/vscodeJupyterKernelCrash'>此处</a>了解详细信息。\n",
      "\u001b[1;31m有关更多详细信息，请查看 Jupyter <a href='command:jupyter.viewOutput'>log</a>。"
     ]
    }
   ],
   "source": [
    "trainer = Trainer(\n",
    "    model=model,\n",
    "    args=training_args,\n",
    "    train_dataset=tokenized_train,\n",
    "    eval_dataset=tokenized_eval,\n",
    ")\n",
    "\n",
    "trainer.train()\n",
    "\n",
    "model.save_pretrained(\"./mengzi_t5_qa_model\")\n",
    "tokenizer.save_pretrained(\"./mengzi_t5_qa_model\")"
   ]
  },
  {
   "cell_type": "code",
   "execution_count": 2,
   "id": "cf870ed0",
   "metadata": {},
   "outputs": [
    {
     "name": "stderr",
     "output_type": "stream",
     "text": [
      "/root/miniconda3/envs/t5_base_qa_env/lib/python3.10/site-packages/tqdm/auto.py:21: TqdmWarning: IProgress not found. Please update jupyter and ipywidgets. See https://ipywidgets.readthedocs.io/en/stable/user_install.html\n",
      "  from .autonotebook import tqdm as notebook_tqdm\n",
      "Special tokens have been added in the vocabulary, make sure the associated word embeddings are fine-tuned or trained.\n"
     ]
    }
   ],
   "source": [
    "from transformers import T5Tokenizer, T5ForConditionalGeneration\n",
    "\n",
    "# 你保存模型的位置\n",
    "model_path = \"./mengzi_t5_qa_model\"\n",
    "\n",
    "tokenizer = T5Tokenizer.from_pretrained(model_path)\n",
    "model = T5ForConditionalGeneration.from_pretrained(model_path)\n"
   ]
  },
  {
   "cell_type": "code",
   "execution_count": 4,
   "id": "068e1d16",
   "metadata": {},
   "outputs": [],
   "source": [
    "from datasets import Dataset\n",
    "\n",
    "test_data_path = \"data/dev.json\"\n",
    "test_data = []\n",
    "with open(test_data_path, 'r', encoding='utf-8') as f:\n",
    "    for line in f:\n",
    "        if line.strip():  # 忽略空行\n",
    "            test_data.append(json.loads(line.strip()))\n",
    "# 构造 input_text 和 target_text\n",
    "test_samples = [\n",
    "    {\n",
    "        \"input_text\": f\"问题：{item['question']} 文本：{item['context']}\",\n",
    "        \"target_text\": item['answer']\n",
    "    }\n",
    "    for item in test_data\n",
    "]\n",
    "\n",
    "test_dataset = Dataset.from_list(test_samples)"
   ]
  },
  {
   "cell_type": "code",
   "execution_count": 5,
   "id": "4e1798bf",
   "metadata": {},
   "outputs": [
    {
     "name": "stderr",
     "output_type": "stream",
     "text": [
      "Map: 100%|██████████| 984/984 [00:00<00:00, 1161.25 examples/s]\n"
     ]
    }
   ],
   "source": [
    "max_input_len = 512\n",
    "max_target_len = 64\n",
    "\n",
    "def preprocess_function(examples):\n",
    "    inputs = tokenizer(\n",
    "        examples[\"input_text\"],\n",
    "        max_length=max_input_len,\n",
    "        padding=\"max_length\",\n",
    "        truncation=True,\n",
    "        return_tensors=None\n",
    "    )\n",
    "    return inputs\n",
    "\n",
    "tokenized_test = test_dataset.map(preprocess_function, batched=True)\n",
    "tokenized_test.set_format(type=\"torch\")\n"
   ]
  },
  {
   "cell_type": "code",
   "execution_count": 15,
   "id": "91e41539",
   "metadata": {},
   "outputs": [],
   "source": [
    "import torch\n",
    "from torch.utils.data import DataLoader\n",
    "\n",
    "model.eval()\n",
    "predictions = []\n",
    "references = []\n",
    "\n",
    "test_loader = DataLoader(tokenized_test, batch_size=2, shuffle=False)\n",
    "\n",
    "for i, batch in enumerate(test_loader):\n",
    "    input_ids = batch[\"input_ids\"].to(model.device)\n",
    "    attention_mask = batch[\"attention_mask\"].to(model.device)\n",
    "\n",
    "    with torch.no_grad():\n",
    "        outputs = model.generate(input_ids=input_ids, attention_mask=attention_mask, max_length=max_target_len)\n",
    "\n",
    "    # 解码预测\n",
    "    decoded_preds = tokenizer.batch_decode(outputs, skip_special_tokens=True)\n",
    "\n",
    "    # 找到对应的原始 label（不能用 i * N 固定映射）\n",
    "    # 获取当前 batch 的原始样本索引\n",
    "    batch_indices = batch[\"input_ids\"].shape[0]\n",
    "    start_idx = i * test_loader.batch_size\n",
    "    end_idx = start_idx + batch_indices\n",
    "    decoded_labels = test_dataset[start_idx:end_idx][\"target_text\"]\n",
    "\n",
    "    # 扩展预测与参考答案\n",
    "    predictions.extend(decoded_preds)\n",
    "    references.extend([[label] for label in decoded_labels])  # BLEU 要求每个参考是一个列表\n",
    "\n"
   ]
  },
  {
   "cell_type": "code",
   "execution_count": 21,
   "id": "947a5649",
   "metadata": {},
   "outputs": [
    {
     "name": "stdout",
     "output_type": "stream",
     "text": [
      "BLEU-1: 0.6715\n",
      "BLEU-2: 0.6405\n",
      "BLEU-3: 0.5181\n",
      "BLEU-4: 0.4301\n"
     ]
    }
   ],
   "source": [
    "import jieba\n",
    "from nltk.translate.bleu_score import sentence_bleu, SmoothingFunction\n",
    "\n",
    "bleu1 = bleu2 = bleu3 = bleu4 = 0\n",
    "smoothie = SmoothingFunction().method4\n",
    "\n",
    "for pred, ref in zip(predictions, references):\n",
    "    pred_tokens = list(jieba.cut(pred))  # 分词后的预测\n",
    "    ref_tokens = [list(jieba.cut(ref[0]))]  # 分词后的参考答案（必须是嵌套列表）\n",
    "\n",
    "    bleu1 += sentence_bleu(ref_tokens, pred_tokens, weights=(1, 0, 0, 0), smoothing_function=smoothie)\n",
    "    bleu2 += sentence_bleu(ref_tokens, pred_tokens, weights=(0.5, 0.5, 0, 0), smoothing_function=smoothie)\n",
    "    bleu3 += sentence_bleu(ref_tokens, pred_tokens, weights=(0.33, 0.33, 0.33, 0), smoothing_function=smoothie)\n",
    "    bleu4 += sentence_bleu(ref_tokens, pred_tokens, weights=(0.25, 0.25, 0.25, 0.25), smoothing_function=smoothie)\n",
    "\n",
    "total = len(predictions)\n",
    "print(f\"BLEU-1: {bleu1 / total:.4f}\")\n",
    "print(f\"BLEU-2: {bleu2 / total:.4f}\")\n",
    "print(f\"BLEU-3: {bleu3 / total:.4f}\")\n",
    "print(f\"BLEU-4: {bleu4 / total:.4f}\")\n"
   ]
  },
  {
   "cell_type": "code",
   "execution_count": 17,
   "id": "c54d7055",
   "metadata": {},
   "outputs": [
    {
     "name": "stdout",
     "output_type": "stream",
     "text": [
      "预测结果已保存到 qa_predictions.csv\n"
     ]
    }
   ],
   "source": [
    "import pandas as pd\n",
    "\n",
    "df = pd.DataFrame({\n",
    "    \"question\": [item[\"input_text\"] for item in test_samples],\n",
    "    \"reference_answer\": [ref[0] for ref in references],\n",
    "    \"predicted_answer\": predictions\n",
    "})\n",
    "\n",
    "df.to_csv(\"qa_predictions.csv\", index=False, encoding=\"utf-8-sig\")\n",
    "print(\"预测结果已保存到 qa_predictions.csv\")"
   ]
  }
 ],
 "metadata": {
  "kernelspec": {
   "display_name": "t5_base_qa_env",
   "language": "python",
   "name": "python3"
  },
  "language_info": {
   "codemirror_mode": {
    "name": "ipython",
    "version": 3
   },
   "file_extension": ".py",
   "mimetype": "text/x-python",
   "name": "python",
   "nbconvert_exporter": "python",
   "pygments_lexer": "ipython3",
   "version": "3.10.18"
  }
 },
 "nbformat": 4,
 "nbformat_minor": 5
}
