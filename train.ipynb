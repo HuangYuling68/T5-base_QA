{
 "cells": [
  {
   "cell_type": "code",
   "execution_count": 1,
   "id": "aa612422",
   "metadata": {},
   "outputs": [
    {
     "name": "stdout",
     "output_type": "stream",
     "text": [
      "共加载训练样本数：14520\n",
      "样本:\n",
      "context: 第35集雪见缓缓张开眼睛，景天又惊又喜之际，长卿和紫萱的仙船驶至，见众人无恙，也十分高兴。众人登船，用尽合力把自身的真气和水分输给她。雪见终于醒过来了，但却一脸木然，全无反应。众人向常胤求助，却发现人世界竟没有雪见的身世纪录。长卿询问清微的身世，清微语带双关说一切上了天界便有答案。长卿驾驶仙船，众人决定立马动身，往天界而去。众人来到一荒山，长卿指出，魔界和天界相连。由魔界进入通过神魔之井，便可登天。众人至魔界入口，仿若一黑色的蝙蝠洞，但始终无法进入。后来花楹发现只要有翅膀便能飞入。于是景天等人打下许多乌鸦，模仿重楼的翅膀，制作数对翅膀状巨物。刚佩戴在身，便被吸入洞口。众人摔落在地，抬头发现魔界守卫。景天和众魔套交情，自称和魔尊重楼相熟，众魔不理，打了起来。 \n",
      "question: 仙剑奇侠传3第几集上天界 \n",
      "answer: 第35集\n"
     ]
    }
   ],
   "source": [
    "import json\n",
    "\n",
    "train_data_path = \"data/train.json\"\n",
    "\n",
    "train_data = []\n",
    "with open(train_data_path, 'r', encoding='utf-8') as f:\n",
    "    for line in f:\n",
    "        if line.strip():  # 忽略空行\n",
    "            train_data.append(json.loads(line.strip()))\n",
    "\n",
    "print(f\"共加载训练样本数：{len(train_data)}\")\n",
    "print(\"样本:\\ncontext:\",train_data[0]['context'],\"\\nquestion:\",train_data[0]['question'],\"\\nanswer:\",train_data[0]['answer'])"
   ]
  },
  {
   "cell_type": "code",
   "execution_count": 2,
   "id": "c0205805",
   "metadata": {},
   "outputs": [
    {
     "name": "stderr",
     "output_type": "stream",
     "text": [
      "/root/miniconda3/envs/t5_base_qa_env/lib/python3.10/site-packages/tqdm/auto.py:21: TqdmWarning: IProgress not found. Please update jupyter and ipywidgets. See https://ipywidgets.readthedocs.io/en/stable/user_install.html\n",
      "  from .autonotebook import tqdm as notebook_tqdm\n"
     ]
    },
    {
     "name": "stdout",
     "output_type": "stream",
     "text": [
      "训练集样本数： 13068\n",
      "验证集样本数： 1452\n"
     ]
    }
   ],
   "source": [
    "from datasets import Dataset\n",
    "\n",
    "# 构造 input_text 和 target_text\n",
    "samples = []\n",
    "for item in train_data:\n",
    "    input_text = f\"问题：{item['question']} 文本：{item['context']}\"\n",
    "    target_text = item['answer']\n",
    "    samples.append({\n",
    "        \"input_text\": input_text,\n",
    "        \"target_text\": target_text\n",
    "    })\n",
    "\n",
    "# 转换为 HuggingFace Dataset 并划分训练/验证集\n",
    "dataset = Dataset.from_list(samples)\n",
    "dataset = dataset.train_test_split(test_size=0.1, seed=42)\n",
    "\n",
    "train_dataset = dataset[\"train\"]\n",
    "eval_dataset = dataset[\"test\"]\n",
    "\n",
    "print(\"训练集样本数：\", len(train_dataset))\n",
    "print(\"验证集样本数：\", len(eval_dataset))"
   ]
  },
  {
   "cell_type": "code",
   "execution_count": 14,
   "id": "50373b70",
   "metadata": {},
   "outputs": [],
   "source": [
    "from transformers import T5Tokenizer, T5ForConditionalGeneration\n",
    "\n",
    "# model_name = \"Langboat/mengzi-t5-base\"\n",
    "model_path = \"/root/.cache/modelscope/hub/models/langboat/mengzi-t5-base\"\n",
    "tokenizer = T5Tokenizer.from_pretrained(model_path)\n",
    "model = T5ForConditionalGeneration.from_pretrained(model_path)\n",
    "\n",
    "max_input_len = 512\n",
    "max_target_len = 64\n",
    "\n",
    "def preprocess_function(examples):\n",
    "    model_inputs = tokenizer(\n",
    "        examples[\"input_text\"],\n",
    "        max_length=max_input_len,\n",
    "        padding=\"max_length\",\n",
    "        truncation=True\n",
    "    )\n",
    "\n",
    "    labels = tokenizer(\n",
    "        examples[\"target_text\"],\n",
    "        max_length=max_target_len,\n",
    "        padding=\"max_length\",\n",
    "        truncation=True\n",
    "    )[\"input_ids\"]\n",
    "\n",
    "    # 避免对 PAD 部分计算损失\n",
    "    labels = [\n",
    "        [(l if l != tokenizer.pad_token_id else -100) for l in label]\n",
    "        for label in labels\n",
    "    ]\n",
    "\n",
    "    model_inputs[\"labels\"] = labels\n",
    "    return model_inputs"
   ]
  },
  {
   "cell_type": "code",
   "execution_count": 4,
   "id": "b860a7ec",
   "metadata": {},
   "outputs": [
    {
     "name": "stderr",
     "output_type": "stream",
     "text": [
      "Map:   0%|          | 0/13068 [00:00<?, ? examples/s]"
     ]
    },
    {
     "name": "stderr",
     "output_type": "stream",
     "text": [
      "Map: 100%|██████████| 13068/13068 [00:12<00:00, 1073.64 examples/s]\n",
      "Map: 100%|██████████| 1452/1452 [00:00<00:00, 1547.09 examples/s]\n"
     ]
    }
   ],
   "source": [
    "tokenized_train = train_dataset.map(preprocess_function, batched=True)\n",
    "tokenized_eval = eval_dataset.map(preprocess_function, batched=True)\n",
    "\n",
    "tokenized_train.set_format(\"torch\")\n",
    "tokenized_eval.set_format(\"torch\")"
   ]
  },
  {
   "cell_type": "code",
   "execution_count": 5,
   "id": "d6d0f611",
   "metadata": {},
   "outputs": [],
   "source": [
    "from transformers import TrainingArguments\n",
    "\n",
    "training_args = TrainingArguments(\n",
    "    output_dir=\"./mengzi_t5_qa_output\",\n",
    "    run_name=\"mengzi-t5-qa-run\",\n",
    "    num_train_epochs=6,                        \n",
    "    per_device_train_batch_size = 4,\n",
    "    per_device_eval_batch_size = 4, \n",
    "    eval_accumulation_steps=4,                 \n",
    "    gradient_accumulation_steps=1,\n",
    "    eval_strategy=\"epoch\",                     \n",
    "    save_strategy=\"epoch\",\n",
    "    learning_rate=3e-5,\n",
    "    warmup_steps=500,\n",
    "    weight_decay=0.01,\n",
    "    save_total_limit=2,\n",
    "    load_best_model_at_end=True,    \n",
    "    metric_for_best_model=\"eval_loss\",      \n",
    "    greater_is_better=False,                  \n",
    "    logging_dir=\"./logs\",\n",
    "    logging_steps=50,\n",
    "    report_to=\"none\",\n",
    "    fp16=True,\n",
    "    dataloader_num_workers=4,\n",
    "    seed=42\n",
    ")\n",
    "from transformers import Trainer, EarlyStoppingCallback\n",
    "\n",
    "trainer = Trainer(\n",
    "    model=model,\n",
    "    args=training_args,\n",
    "    train_dataset=tokenized_train,\n",
    "    eval_dataset=tokenized_eval,\n",
    "    tokenizer=tokenizer,\n",
    "    callbacks=[EarlyStoppingCallback(early_stopping_patience=2)]\n",
    ")"
   ]
  },
  {
   "cell_type": "code",
   "execution_count": 6,
   "id": "e9ea56e6",
   "metadata": {},
   "outputs": [
    {
     "data": {
      "text/html": [
       "\n",
       "    <div>\n",
       "      \n",
       "      <progress value='9801' max='19602' style='width:300px; height:20px; vertical-align: middle;'></progress>\n",
       "      [ 9801/19602 24:16 < 24:17, 6.73 it/s, Epoch 3/6]\n",
       "    </div>\n",
       "    <table border=\"1\" class=\"dataframe\">\n",
       "  <thead>\n",
       " <tr style=\"text-align: left;\">\n",
       "      <th>Epoch</th>\n",
       "      <th>Training Loss</th>\n",
       "      <th>Validation Loss</th>\n",
       "    </tr>\n",
       "  </thead>\n",
       "  <tbody>\n",
       "    <tr>\n",
       "      <td>1</td>\n",
       "      <td>0.586000</td>\n",
       "      <td>0.582998</td>\n",
       "    </tr>\n",
       "    <tr>\n",
       "      <td>2</td>\n",
       "      <td>0.360000</td>\n",
       "      <td>0.608305</td>\n",
       "    </tr>\n",
       "    <tr>\n",
       "      <td>3</td>\n",
       "      <td>0.200000</td>\n",
       "      <td>0.707420</td>\n",
       "    </tr>\n",
       "  </tbody>\n",
       "</table><p>"
      ],
      "text/plain": [
       "<IPython.core.display.HTML object>"
      ]
     },
     "metadata": {},
     "output_type": "display_data"
    },
    {
     "name": "stderr",
     "output_type": "stream",
     "text": [
      "There were missing keys in the checkpoint model loaded: ['encoder.embed_tokens.weight', 'decoder.embed_tokens.weight'].\n"
     ]
    },
    {
     "data": {
      "text/plain": [
       "('./mengzi_t5_qa_model/tokenizer_config.json',\n",
       " './mengzi_t5_qa_model/special_tokens_map.json',\n",
       " './mengzi_t5_qa_model/spiece.model',\n",
       " './mengzi_t5_qa_model/added_tokens.json')"
      ]
     },
     "execution_count": 6,
     "metadata": {},
     "output_type": "execute_result"
    }
   ],
   "source": [
    "trainer.train()\n",
    "# 保存模型和分词器\n",
    "output_dir = \"./mengzi_t5_qa_model\"\n",
    "trainer.save_model(output_dir)\n",
    "tokenizer.save_pretrained(output_dir)"
   ]
  },
  {
   "cell_type": "code",
   "execution_count": 1,
   "id": "cf870ed0",
   "metadata": {},
   "outputs": [
    {
     "name": "stderr",
     "output_type": "stream",
     "text": [
      "/root/miniconda3/envs/t5_base_qa_env/lib/python3.10/site-packages/tqdm/auto.py:21: TqdmWarning: IProgress not found. Please update jupyter and ipywidgets. See https://ipywidgets.readthedocs.io/en/stable/user_install.html\n",
      "  from .autonotebook import tqdm as notebook_tqdm\n",
      "Special tokens have been added in the vocabulary, make sure the associated word embeddings are fine-tuned or trained.\n"
     ]
    },
    {
     "ename": "NameError",
     "evalue": "name 'model_path' is not defined",
     "output_type": "error",
     "traceback": [
      "\u001b[0;31m---------------------------------------------------------------------------\u001b[0m",
      "\u001b[0;31mNameError\u001b[0m                                 Traceback (most recent call last)",
      "Cell \u001b[0;32mIn[1], line 10\u001b[0m\n\u001b[1;32m      7\u001b[0m train_model \u001b[38;5;241m=\u001b[39m T5ForConditionalGeneration\u001b[38;5;241m.\u001b[39mfrom_pretrained(trained_model_path)\n\u001b[1;32m      9\u001b[0m origin_model_path \u001b[38;5;241m=\u001b[39m \u001b[38;5;124m\"\u001b[39m\u001b[38;5;124m/root/.cache/modelscope/hub/models/langboat/mengzi-t5-base\u001b[39m\u001b[38;5;124m\"\u001b[39m\n\u001b[0;32m---> 10\u001b[0m origin_tokenizer \u001b[38;5;241m=\u001b[39m T5Tokenizer\u001b[38;5;241m.\u001b[39mfrom_pretrained(\u001b[43mmodel_path\u001b[49m)\n\u001b[1;32m     11\u001b[0m origin_model \u001b[38;5;241m=\u001b[39m T5ForConditionalGeneration\u001b[38;5;241m.\u001b[39mfrom_pretrained(model_path)\n",
      "\u001b[0;31mNameError\u001b[0m: name 'model_path' is not defined"
     ]
    }
   ],
   "source": [
    "from transformers import T5Tokenizer, T5ForConditionalGeneration\n",
    "\n",
    "# 你保存模型的位置\n",
    "trained_model_path = \"./mengzi_t5_qa_model\"\n",
    "\n",
    "trained_tokenizer = T5Tokenizer.from_pretrained(trained_model_path)\n",
    "train_model = T5ForConditionalGeneration.from_pretrained(trained_model_path)\n",
    "\n",
    "origin_model_path = \"/root/.cache/modelscope/hub/models/langboat/mengzi-t5-base\"\n",
    "origin_tokenizer = T5Tokenizer.from_pretrained(model_path)\n",
    "origin_model = T5ForConditionalGeneration.from_pretrained(model_path)\n"
   ]
  },
  {
   "cell_type": "code",
   "execution_count": 8,
   "id": "068e1d16",
   "metadata": {},
   "outputs": [],
   "source": [
    "from datasets import Dataset\n",
    "\n",
    "test_data_path = \"data/dev.json\"\n",
    "test_data = []\n",
    "with open(test_data_path, 'r', encoding='utf-8') as f:\n",
    "    for line in f:\n",
    "        if line.strip():  # 忽略空行\n",
    "            test_data.append(json.loads(line.strip()))\n",
    "# 构造 input_text 和 target_text\n",
    "test_samples = [\n",
    "    {\n",
    "        \"input_text\": f\"问题：{item['question']} 文本：{item['context']}\",\n",
    "        \"target_text\": item['answer']\n",
    "    }\n",
    "    for item in test_data\n",
    "]\n",
    "\n",
    "test_dataset = Dataset.from_list(test_samples)"
   ]
  },
  {
   "cell_type": "code",
   "execution_count": 9,
   "id": "4e1798bf",
   "metadata": {},
   "outputs": [
    {
     "name": "stderr",
     "output_type": "stream",
     "text": [
      "Map: 100%|██████████| 984/984 [00:00<00:00, 1181.53 examples/s]\n"
     ]
    }
   ],
   "source": [
    "max_input_len = 512\n",
    "max_target_len = 64\n",
    "\n",
    "def preprocess_function(examples):\n",
    "    inputs = tokenizer(\n",
    "        examples[\"input_text\"],\n",
    "        max_length=max_input_len,\n",
    "        padding=\"max_length\",\n",
    "        truncation=True,\n",
    "        return_tensors=None\n",
    "    )\n",
    "    return inputs\n",
    "\n",
    "tokenized_test = test_dataset.map(preprocess_function, batched=True)\n",
    "tokenized_test.set_format(type=\"torch\")\n"
   ]
  },
  {
   "cell_type": "code",
   "execution_count": null,
   "id": "91e41539",
   "metadata": {},
   "outputs": [],
   "source": [
    "import torch\n",
    "from torch.utils.data import DataLoader\n",
    "\n",
    "predictions = []\n",
    "references = []\n",
    "\n",
    "test_loader = DataLoader(tokenized_test, batch_size=2, shuffle=False)\n",
    "\n",
    "for i, batch in enumerate(test_loader):\n",
    "    input_ids = batch[\"input_ids\"].to(model.device)\n",
    "    attention_mask = batch[\"attention_mask\"].to(model.device)\n",
    "\n",
    "    with torch.no_grad():\n",
    "        outputs = model.generate(input_ids=input_ids, attention_mask=attention_mask, max_length=max_target_len)\n",
    "\n",
    "    # 解码预测\n",
    "    decoded_preds = tokenizer.batch_decode(outputs, skip_special_tokens=True)\n",
    "\n",
    "    # 找到对应的原始 label（不能用 i * N 固定映射）\n",
    "    # 获取当前 batch 的原始样本索引\n",
    "    batch_indices = batch[\"input_ids\"].shape[0]\n",
    "    start_idx = i * test_loader.batch_size\n",
    "    end_idx = start_idx + batch_indices\n",
    "    decoded_labels = test_dataset[start_idx:end_idx][\"target_text\"]\n",
    "\n",
    "    # 扩展预测与参考答案\n",
    "    predictions.extend(decoded_preds)\n",
    "    references.extend([[label] for label in decoded_labels])  # BLEU 要求每个参考是一个列表\n",
    "\n"
   ]
  },
  {
   "cell_type": "code",
   "execution_count": null,
   "id": "947a5649",
   "metadata": {},
   "outputs": [
    {
     "name": "stderr",
     "output_type": "stream",
     "text": [
      "Building prefix dict from the default dictionary ...\n",
      "Loading model from cache /tmp/jieba.cache\n",
      "Loading model cost 0.540 seconds.\n",
      "Prefix dict has been built successfully.\n"
     ]
    },
    {
     "name": "stdout",
     "output_type": "stream",
     "text": [
      "BLEU-1: 0.6338\n",
      "BLEU-2: 0.6027\n",
      "BLEU-3: 0.4925\n",
      "BLEU-4: 0.4057\n"
     ]
    }
   ],
   "source": [
    "import jieba\n",
    "from nltk.translate.bleu_score import sentence_bleu, SmoothingFunction\n",
    "\n",
    "bleu1 = bleu2 = bleu3 = bleu4 = 0\n",
    "smoothie = SmoothingFunction().method4\n",
    "\n",
    "for pred, ref in zip(predictions, references):\n",
    "    pred_tokens = list(jieba.cut(pred))  # 分词后的预测\n",
    "    ref_tokens = [list(jieba.cut(ref[0]))]  # 分词后的参考答案（必须是嵌套列表）\n",
    "\n",
    "    bleu1 += sentence_bleu(ref_tokens, pred_tokens, weights=(1, 0, 0, 0), smoothing_function=smoothie)\n",
    "    bleu2 += sentence_bleu(ref_tokens, pred_tokens, weights=(0.5, 0.5, 0, 0), smoothing_function=smoothie)\n",
    "    bleu3 += sentence_bleu(ref_tokens, pred_tokens, weights=(0.33, 0.33, 0.33, 0), smoothing_function=smoothie)\n",
    "    bleu4 += sentence_bleu(ref_tokens, pred_tokens, weights=(0.25, 0.25, 0.25, 0.25), smoothing_function=smoothie)\n",
    "\n",
    "total = len(predictions)\n",
    "print(f\"BLEU-1: {bleu1 / total:.4f}\")\n",
    "print(f\"BLEU-2: {bleu2 / total:.4f}\")\n",
    "print(f\"BLEU-3: {bleu3 / total:.4f}\")\n",
    "print(f\"BLEU-4: {bleu4 / total:.4f}\")\n"
   ]
  },
  {
   "cell_type": "code",
   "execution_count": 12,
   "id": "c54d7055",
   "metadata": {},
   "outputs": [
    {
     "name": "stdout",
     "output_type": "stream",
     "text": [
      "预测结果已保存到 qa_predictions.csv\n"
     ]
    }
   ],
   "source": [
    "import pandas as pd\n",
    "\n",
    "df = pd.DataFrame({\n",
    "    \"question\": [item[\"input_text\"] for item in test_samples],\n",
    "    \"reference_answer\": [ref[0] for ref in references],\n",
    "    \"predicted_answer\": predictions\n",
    "})\n",
    "\n",
    "df.to_csv(\"qa_predictions.csv\", index=False, encoding=\"utf-8-sig\")\n",
    "print(\"预测结果已保存到 qa_predictions.csv\")"
   ]
  },
  {
   "cell_type": "code",
   "execution_count": null,
   "id": "94d845c1",
   "metadata": {},
   "outputs": [],
   "source": []
  }
 ],
 "metadata": {
  "kernelspec": {
   "display_name": "t5_base_qa_env",
   "language": "python",
   "name": "python3"
  },
  "language_info": {
   "codemirror_mode": {
    "name": "ipython",
    "version": 3
   },
   "file_extension": ".py",
   "mimetype": "text/x-python",
   "name": "python",
   "nbconvert_exporter": "python",
   "pygments_lexer": "ipython3",
   "version": "3.10.18"
  }
 },
 "nbformat": 4,
 "nbformat_minor": 5
}
